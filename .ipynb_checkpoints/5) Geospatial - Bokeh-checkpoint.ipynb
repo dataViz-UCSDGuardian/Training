{
 "cells": [
  {
   "cell_type": "code",
   "execution_count": 1,
   "metadata": {
    "collapsed": false
   },
   "outputs": [
    {
     "name": "stdout",
     "output_type": "stream",
     "text": [
      "Using data directory: C:\\Users\\Ayat Amin/.bokeh\\data\n",
      "Downloading: CGM.csv (1589982 bytes)\n",
      "   1589982 [100.00%]\n",
      "Downloading: US_Counties.zip (3182088 bytes)\n",
      "   3182088 [100.00%]\n",
      "Unpacking: US_Counties.csv\n",
      "Downloading: us_cities.json (713565 bytes)\n",
      "    713565 [100.00%]\n",
      "Downloading: unemployment09.csv (253301 bytes)\n",
      "    253301 [100.00%]\n",
      "Downloading: AAPL.csv (166698 bytes)\n",
      "    166698 [100.00%]\n",
      "Downloading: FB.csv (9706 bytes)\n",
      "      9706 [100.00%]\n",
      "Downloading: GOOG.csv (113894 bytes)\n",
      "    113894 [100.00%]\n",
      "Downloading: IBM.csv (165625 bytes)\n",
      "    165625 [100.00%]\n",
      "Downloading: MSFT.csv (161614 bytes)\n",
      "    161614 [100.00%]\n",
      "Downloading: WPP2012_SA_DB03_POPULATION_QUINQUENNIAL.zip (5148539 bytes)\n",
      "   5148539 [100.00%]\n",
      "Unpacking: WPP2012_SA_DB03_POPULATION_QUINQUENNIAL.csv\n",
      "Downloading: gapminder_fertility.csv (64346 bytes)\n",
      "     64346 [100.00%]\n",
      "Downloading: gapminder_population.csv (94509 bytes)\n",
      "     94509 [100.00%]\n",
      "Downloading: gapminder_life_expectancy.csv (73243 bytes)\n",
      "     73243 [100.00%]\n",
      "Downloading: gapminder_regions.csv (7781 bytes)\n",
      "      7781 [100.00%]\n",
      "Downloading: world_cities.zip (646858 bytes)\n",
      "    646858 [100.00%]\n",
      "Unpacking: world_cities.csv\n"
     ]
    }
   ],
   "source": [
    "# From the Bokeh tutorial\n",
    "# http://bokeh.pydata.org/en/latest/docs/gallery/choropleth.html\n",
    "\n",
    "#The data set we are using for this tutorial is one of Bokeh's sample dat\n",
    "#which can be downloaded here\n",
    "import bokeh.sampledata\n",
    "bokeh.sampledata.download()\n",
    "#We are using sample data from Bokeh, located here\n",
    "# https://github.com/bokeh/bokeh/tree/master/bokeh/sampledata\n",
    "# Ufortunately, in this tutorial, we cant see the data directly and thus can only make inferences\n",
    "\n",
    "#Bokeh also has pre-included maps for us counties and us states\n",
    "from bokeh.plotting import figure, show, output_file\n",
    "from bokeh.sampledata.us_counties import data as counties\n",
    "from bokeh.sampledata.us_states import data as states\n",
    "from bokeh.sampledata.unemployment import data as unemployment\n",
    "\n",
    "#We deleted Hawaii and Alaska\n",
    "del states[\"HI\"]\n",
    "del states[\"AK\"]\n",
    "\n",
    "#This is a list of states and counties to ignore because there is no data for these\n",
    "EXCLUDED = (\"ak\", \"hi\", \"pr\", \"gu\", \"vi\", \"mp\", \"as\")"
   ]
  },
  {
   "cell_type": "code",
   "execution_count": 5,
   "metadata": {
    "collapsed": false
   },
   "outputs": [],
   "source": [
    "# Lesson 2: Get map outlines\n",
    "#Get the longitudes and latitudes for each state\n",
    "state_xs = [states[code][\"lons\"] for code in states]\n",
    "state_ys = [states[code][\"lats\"] for code in states]\n",
    "\n",
    "#Get the longitudes and latitudes for each county\n",
    "county_xs=[counties[code][\"lons\"] for code in counties if counties[code][\"state\"] not in EXCLUDED]\n",
    "county_ys=[counties[code][\"lats\"] for code in counties if counties[code][\"state\"] not in EXCLUDED]\n",
    "\n",
    "#Note we have 6 colors\n",
    "colors = [\"#F1EEF6\", \"#D4B9DA\", \"#C994C7\", \"#DF65B0\", \"#DD1C77\", \"#980043\"]"
   ]
  },
  {
   "cell_type": "code",
   "execution_count": 13,
   "metadata": {
    "collapsed": false
   },
   "outputs": [
    {
     "name": "stderr",
     "output_type": "stream",
     "text": [
      "ERROR:C:\\Users\\Ayat Amin\\Anaconda3\\lib\\site-packages\\bokeh\\validation\\check.py:W-1001 (NO_GLYPH_RENDERERS): Plot has no glyph renderers: Figure, ViewModel:Plot, ref _id: 4c2827e5-d659-4fb7-8d32-32f61abdf2c6\n"
     ]
    }
   ],
   "source": [
    "# Lesson 3: Plotting unemployment data\n",
    "\n",
    "#create an empty array to input color values into\n",
    "#color values will be based on unemployment values\n",
    "county_colors = []\n",
    "\n",
    "#for every county in bokeh's list of counties\n",
    "for county_id in counties:\n",
    "    #we excluded the county if it's on our excluded list\n",
    "    if counties[county_id][\"state\"] in EXCLUDED:\n",
    "        continue\n",
    "    #else we determine a color from the unemployment data\n",
    "    try:\n",
    "        rate = unemployment[county_id] #get the unemployment rate for the country\n",
    "        #we know that the max rate of unemployment is 60\n",
    "        #We also have 6 colors to scale to\n",
    "        #So we divide by 6 so that every 10% of unemployment get it's own color\n",
    "        idx = int(rate/6) \n",
    "        #add the color to the array\n",
    "        county_colors.append(colors[idx])\n",
    "    except KeyError:\n",
    "        #if county does not exist or we get error, input black\n",
    "        county_colors.append(\"black\")\n",
    "\n",
    "#Lesson 4: Add Title, toolbar, determine size\n",
    "#Set up the figure\n",
    "p = figure(title=\"US Unemployment 2009\", toolbar_location=\"left\",\n",
    "           plot_width=1100, plot_height=700)\n",
    "show(p)"
   ]
  },
  {
   "cell_type": "code",
   "execution_count": 10,
   "metadata": {
    "collapsed": true
   },
   "outputs": [],
   "source": [
    "# Lesson 5: Add counties\n",
    "#This is where we plot the colors\n",
    "#pathes is the bokeh color to fill in colors\n",
    "#it's inputs are: xavlues, yvalues, color\n",
    "#addiontional inputs are: fill_alpha = transparency where 1 is no transparency and 0 is can't see figure\n",
    "#line_color = line outline color, line_width = line outline width\n",
    "p.patches(county_xs, county_ys,\n",
    "          fill_color=county_colors, fill_alpha=0.7,\n",
    "          line_color=\"white\", line_width=0.5)\n",
    "show(p)"
   ]
  },
  {
   "cell_type": "code",
   "execution_count": 11,
   "metadata": {
    "collapsed": false
   },
   "outputs": [],
   "source": [
    "# Lesson 6: Add states and publish to url\n",
    "#here is where we input the state outlines. Notice fill alpha is 0\n",
    "p.patches(state_xs, state_ys, fill_alpha=0.0,\n",
    "          line_color=\"#884444\", line_width=2, line_alpha=0.3)\n",
    "\n",
    "#the output file\n",
    "output_file(\"choropleth.html\", title=\"choropleth.py example\")\n",
    "\n",
    "show(p)"
   ]
  },
  {
   "cell_type": "code",
   "execution_count": null,
   "metadata": {
    "collapsed": true
   },
   "outputs": [],
   "source": [
    "#Lesson End"
   ]
  }
 ],
 "metadata": {
  "kernelspec": {
   "display_name": "Python 3",
   "language": "python",
   "name": "python3"
  },
  "language_info": {
   "codemirror_mode": {
    "name": "ipython",
    "version": 3
   },
   "file_extension": ".py",
   "mimetype": "text/x-python",
   "name": "python",
   "nbconvert_exporter": "python",
   "pygments_lexer": "ipython3",
   "version": "3.5.1"
  }
 },
 "nbformat": 4,
 "nbformat_minor": 0
}
